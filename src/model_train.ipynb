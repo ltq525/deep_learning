{
  "nbformat": 4,
  "nbformat_minor": 0,
  "metadata": {
    "colab": {
      "provenance": [],
      "gpuType": "T4"
    },
    "kernelspec": {
      "name": "python3",
      "display_name": "Python 3"
    },
    "language_info": {
      "name": "python"
    },
    "accelerator": "GPU"
  },
  "cells": [
    {
      "cell_type": "code",
      "source": [
        "import torch"
      ],
      "metadata": {
        "id": "9ZWAyrAEFLpi"
      },
      "execution_count": null,
      "outputs": []
    },
    {
      "cell_type": "code",
      "source": [
        "print(torch.__version__)"
      ],
      "metadata": {
        "colab": {
          "base_uri": "https://localhost:8080/"
        },
        "id": "HxKfTn-oFUU_",
        "outputId": "e9d5f5cb-ebfb-42ca-b9e6-176284e890c3"
      },
      "execution_count": null,
      "outputs": [
        {
          "output_type": "stream",
          "name": "stdout",
          "text": [
            "2.6.0+cu124\n"
          ]
        }
      ]
    },
    {
      "cell_type": "code",
      "source": [
        "print(torch.cuda.is_available())"
      ],
      "metadata": {
        "colab": {
          "base_uri": "https://localhost:8080/"
        },
        "id": "8XEAHI5GDcmg",
        "outputId": "60d1204b-8d63-4a70-fe32-7a69c24289e5"
      },
      "execution_count": null,
      "outputs": [
        {
          "output_type": "stream",
          "name": "stdout",
          "text": [
            "True\n"
          ]
        }
      ]
    },
    {
      "cell_type": "code",
      "source": [
        "import torch\n",
        "import torchvision\n",
        "from torch import nn\n",
        "from torchvision import datasets, transforms\n",
        "from torch.utils.tensorboard import SummaryWriter\n",
        "import time\n",
        "\n",
        "writer = SummaryWriter(log_dir='../logs/network')\n",
        "device = torch.device(\"cuda\" if torch.cuda.is_available() else \"cpu\")\n",
        "\n",
        "class CIFAR10_model(nn.Module):\n",
        "    def __init__(self):\n",
        "        super().__init__()\n",
        "        self.model = nn.Sequential(\n",
        "            nn.Conv2d(3, 32, 5, padding=2),\n",
        "            nn.MaxPool2d(2),\n",
        "            nn.Conv2d(32, 32, 5, padding=2),\n",
        "            nn.MaxPool2d(2),\n",
        "            nn.Conv2d(32, 64, 5, padding=2),\n",
        "            nn.MaxPool2d(2),\n",
        "            nn.Flatten(),\n",
        "            nn.Linear(64 * 4 * 4, 64),\n",
        "            nn.Linear(64, 10)\n",
        "        )\n",
        "\n",
        "    def forward(self, x):\n",
        "        x = self.model(x)\n",
        "        return x\n",
        "\n",
        "\n",
        "class vgg16_model:\n",
        "    def __init__(self):\n",
        "        super().__init__()\n",
        "        self.vgg16_false = torchvision.models.vgg16(pretrained=False)\n",
        "        self.vgg16_true = torchvision.models.vgg16(weights=torchvision.models.VGG16_Weights.DEFAULT)\n",
        "\n",
        "    def modify(self):\n",
        "        self.vgg16_false.classifier[6] = nn.Linear(4096, 10)\n",
        "        self.vgg16_true.classifier.add_module('7', nn.Linear(1000, 10))\n",
        "\n",
        "\n",
        "class MyDataloader(object):\n",
        "\n",
        "    def __init__(self):\n",
        "        dataset_transform = transforms.Compose([\n",
        "            transforms.ToTensor()\n",
        "        ])\n",
        "        train_set = datasets.CIFAR10(root='../dataset', train=True, transform=dataset_transform, download=True)\n",
        "        test_set = datasets.CIFAR10(root='../dataset', train=False, transform=dataset_transform, download=True)\n",
        "\n",
        "        self.train_loader = torch.utils.data.DataLoader(\n",
        "            dataset=train_set,\n",
        "            batch_size=64,\n",
        "            shuffle=True,\n",
        "            num_workers=0,\n",
        "            drop_last=False\n",
        "        )\n",
        "        self.test_loader = torch.utils.data.DataLoader(\n",
        "            dataset=test_set,\n",
        "            batch_size=64,\n",
        "            shuffle=True,\n",
        "            num_workers=0,\n",
        "            drop_last=True\n",
        "        )\n",
        "\n",
        "\n",
        "def train(model, dataloader, epochs=5):\n",
        "    model.train()\n",
        "    # 随机梯度下降优化器\n",
        "    optimizer = torch.optim.Adam(model.parameters(), lr=1e-3)\n",
        "    # optimizer = torch.optim.SGD(model.parameters(), lr=1e-2)\n",
        "    for epoch in range(epochs):\n",
        "        running_loss = 0.0\n",
        "        for data in dataloader.train_loader:\n",
        "            imgs, targets = data\n",
        "            # 将数据移动到GPU\n",
        "            imgs = imgs.to(device)\n",
        "            targets = targets.to(device)\n",
        "\n",
        "            outputs = model(imgs)\n",
        "            loss = nn.CrossEntropyLoss()(outputs, targets)\n",
        "            # 通过反向传播与优化器更新参数\n",
        "            optimizer.zero_grad()\n",
        "            loss.backward()\n",
        "            optimizer.step()\n",
        "            # 损失函数累加\n",
        "            running_loss += loss.item()\n",
        "        print(f\"epoch: {epoch + 1}, train_loss: {running_loss / len(dataloader.train_loader)}\")\n",
        "        writer.add_scalar('train_loss', running_loss / len(dataloader.train_loader), epoch + 1)\n",
        "        # 测试\n",
        "        test(model, dataloader, epoch)\n",
        "        save_model(model, f\"../models/cifar10_model_{epoch + 1}.pth\")\n",
        "\n",
        "\n",
        "def test(model, dataloader, epoch):\n",
        "    model.eval()\n",
        "    total_loss = 0\n",
        "    total_accuracy = 0\n",
        "    with torch.no_grad():\n",
        "        for data in dataloader.test_loader:\n",
        "            imgs, targets = data\n",
        "            # 将数据移动到GPU\n",
        "            imgs = imgs.to(device)\n",
        "            targets = targets.to(device)\n",
        "\n",
        "            outputs = model(imgs)\n",
        "            loss = nn.CrossEntropyLoss()(outputs, targets)\n",
        "            accuracy = (outputs.argmax(dim=1) == targets).sum()\n",
        "            total_loss += loss.item()\n",
        "            total_accuracy += accuracy\n",
        "    writer.add_scalar('test_loss', total_loss / len(dataloader.test_loader), epoch + 1)\n",
        "    writer.add_scalar('test_accuracy', 100 * total_accuracy / len(dataloader.test_loader.dataset), epoch + 1)\n",
        "    print(f\"test_loss: {total_loss / len(dataloader.test_loader)}, test_accuracy: {100 * total_accuracy / len(dataloader.test_loader.dataset)}%\")\n",
        "\n",
        "def save_model(model, path):\n",
        "    # 1.保存模型结构+模型参数\n",
        "    # torch.save(models, path)\n",
        "    # 2.保存模型参数\n",
        "    torch.save(model.state_dict(), path)\n",
        "\n",
        "\n",
        "# 加载模型函数\n",
        "def load_model(model, path):\n",
        "    try:\n",
        "        device = torch.device(\"cuda\" if torch.cuda.is_available() else \"cpu\")\n",
        "        # 1.加载模型结构+模型参数\n",
        "        # models = torch.load(path)\n",
        "        # 2.加载模型参数\n",
        "        model.load_state_dict(torch.load(path, map_location=device))\n",
        "        print(f\"模型加载成功！device={device}\")\n",
        "    except Exception as e:\n",
        "        print(f\"模型加载失败: {e}\")\n",
        "\n",
        "\n",
        "def cifar10_model_train():\n",
        "    # 创建模型\n",
        "    model = CIFAR10_model().to(device)\n",
        "    # 加载数据\n",
        "    dataloader = MyDataloader()\n",
        "    # 训练\n",
        "    train(model, dataloader, epochs=20)\n",
        "    print(\"train complete\")\n",
        "\n",
        "if __name__ == '__main__':\n",
        "\n",
        "    print(f\"current device: {device}\")\n",
        "    if torch.cuda.is_available():\n",
        "        print(f\"GPU name: {torch.cuda.get_device_name(0)}\")\n",
        "\n",
        "    start_time = time.time()\n",
        "    cifar10_model_train()\n",
        "    end_time = time.time()\n",
        "    print(f\"time: {end_time - start_time}\")\n",
        "\n",
        "    # input = torch.randn(64, 3, 32, 32)\n",
        "    # output = models(input)\n",
        "    # writer.add_graph(models, input)\n",
        "    # writer.close()\n",
        "    # print(models)\n"
      ],
      "metadata": {
        "colab": {
          "base_uri": "https://localhost:8080/"
        },
        "id": "Rm08-8_lHYW_",
        "outputId": "66434e72-5f8a-4221-e734-8c1454c51947"
      },
      "execution_count": 39,
      "outputs": [
        {
          "output_type": "stream",
          "name": "stdout",
          "text": [
            "current device: cuda\n",
            "GPU name: Tesla T4\n",
            "epoch: 1, train_loss: 1.4473065484667678\n",
            "test_loss: 1.2962258943380454, test_accuracy: 54.5%\n",
            "epoch: 2, train_loss: 1.0996741218792507\n",
            "test_loss: 1.0981420278549194, test_accuracy: 62.47999954223633%\n",
            "epoch: 3, train_loss: 0.9668883092110724\n",
            "test_loss: 0.9887493611910404, test_accuracy: 65.93999481201172%\n",
            "epoch: 4, train_loss: 0.8737570137319053\n",
            "test_loss: 0.9768761449899429, test_accuracy: 66.77999877929688%\n",
            "epoch: 5, train_loss: 0.8049978618426701\n",
            "test_loss: 0.9956574619580538, test_accuracy: 66.94999694824219%\n",
            "epoch: 6, train_loss: 0.7327681240599478\n",
            "test_loss: 1.0015552093585331, test_accuracy: 66.29999542236328%\n",
            "epoch: 7, train_loss: 0.6704838242753387\n",
            "test_loss: 0.9937529426354629, test_accuracy: 67.48999786376953%\n",
            "epoch: 8, train_loss: 0.6266573231162318\n",
            "test_loss: 1.020987161841148, test_accuracy: 67.20999908447266%\n",
            "epoch: 9, train_loss: 0.5716447586484272\n",
            "test_loss: 1.04306511198863, test_accuracy: 67.29999542236328%\n",
            "epoch: 10, train_loss: 0.5289070881769785\n",
            "test_loss: 1.0739066142302294, test_accuracy: 67.18000030517578%\n",
            "epoch: 11, train_loss: 0.494566571034129\n",
            "test_loss: 1.1508616957909021, test_accuracy: 66.20999908447266%\n",
            "epoch: 12, train_loss: 0.45369330090482524\n",
            "test_loss: 1.1680596333283644, test_accuracy: 66.47000122070312%\n",
            "epoch: 13, train_loss: 0.42168484784453114\n",
            "test_loss: 1.2384971582736723, test_accuracy: 66.4000015258789%\n",
            "epoch: 14, train_loss: 0.3882256568316608\n",
            "test_loss: 1.393945024563716, test_accuracy: 64.97999572753906%\n",
            "epoch: 15, train_loss: 0.36461143449063194\n",
            "test_loss: 1.3411483944226534, test_accuracy: 66.3499984741211%\n",
            "epoch: 16, train_loss: 0.3421477378939119\n",
            "test_loss: 1.423152044415474, test_accuracy: 66.77999877929688%\n",
            "epoch: 17, train_loss: 0.3256183605441047\n",
            "test_loss: 1.4718140275814595, test_accuracy: 65.91999816894531%\n",
            "epoch: 18, train_loss: 0.30700222079825523\n",
            "test_loss: 1.5621660821712935, test_accuracy: 65.4000015258789%\n",
            "epoch: 19, train_loss: 0.2864178345464837\n",
            "test_loss: 1.5909302895649886, test_accuracy: 64.62999725341797%\n",
            "epoch: 20, train_loss: 0.27642929185743986\n",
            "test_loss: 1.7449252903461456, test_accuracy: 63.769996643066406%\n",
            "train complete\n",
            "time: 229.2334635257721\n"
          ]
        }
      ]
    },
    {
      "cell_type": "code",
      "source": [
        "!nvidia-smi"
      ],
      "metadata": {
        "colab": {
          "base_uri": "https://localhost:8080/"
        },
        "id": "mnKQ3VU5JC1f",
        "outputId": "efe4c28f-b47f-4b6f-9727-b2cab09210ce"
      },
      "execution_count": null,
      "outputs": [
        {
          "output_type": "stream",
          "name": "stdout",
          "text": [
            "Mon Aug  4 12:53:03 2025       \n",
            "+-----------------------------------------------------------------------------------------+\n",
            "| NVIDIA-SMI 550.54.15              Driver Version: 550.54.15      CUDA Version: 12.4     |\n",
            "|-----------------------------------------+------------------------+----------------------+\n",
            "| GPU  Name                 Persistence-M | Bus-Id          Disp.A | Volatile Uncorr. ECC |\n",
            "| Fan  Temp   Perf          Pwr:Usage/Cap |           Memory-Usage | GPU-Util  Compute M. |\n",
            "|                                         |                        |               MIG M. |\n",
            "|=========================================+========================+======================|\n",
            "|   0  Tesla T4                       Off |   00000000:00:04.0 Off |                    0 |\n",
            "| N/A   69C    P0             32W /   70W |     244MiB /  15360MiB |      0%      Default |\n",
            "|                                         |                        |                  N/A |\n",
            "+-----------------------------------------+------------------------+----------------------+\n",
            "                                                                                         \n",
            "+-----------------------------------------------------------------------------------------+\n",
            "| Processes:                                                                              |\n",
            "|  GPU   GI   CI        PID   Type   Process name                              GPU Memory |\n",
            "|        ID   ID                                                               Usage      |\n",
            "|=========================================================================================|\n",
            "+-----------------------------------------------------------------------------------------+\n"
          ]
        }
      ]
    },
    {
      "cell_type": "code",
      "source": [
        "!pwd"
      ],
      "metadata": {
        "id": "V4TTLNy0JIL6",
        "colab": {
          "base_uri": "https://localhost:8080/"
        },
        "outputId": "291ab8fb-8384-4e5e-e9c9-734935e80898"
      },
      "execution_count": null,
      "outputs": [
        {
          "output_type": "stream",
          "name": "stdout",
          "text": [
            "/content\n"
          ]
        }
      ]
    },
    {
      "cell_type": "code",
      "source": [],
      "metadata": {
        "id": "bKm-1TgRZSFX"
      },
      "execution_count": null,
      "outputs": []
    }
  ]
}